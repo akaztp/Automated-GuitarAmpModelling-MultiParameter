{
 "cells": [
  {
   "cell_type": "markdown",
   "metadata": {},
   "source": [
    "# Two-Parameter Amp Model Training\n",
    "Based on GuitarML's Automated-GuitarAmpModelling"
   ]
  },
  {
   "cell_type": "code",
   "execution_count": null,
   "metadata": {},
   "outputs": [],
   "source": [
    "# Setup Environment\n",
    "!git clone https://github.com/GuitarML/Automated-GuitarAmpModelling\n",
    "%cd Automated-GuitarAmpModelling\n",
    "!git submodule update --init --recursive\n",
    "#!pip install -r requirements.txt --ignore-requires-python"
   ]
  },
  {
   "cell_type": "code",
   "execution_count": null,
   "metadata": {},
   "outputs": [],
   "source": [
    "# GPU Check\n",
    "import torch\n",
    "print(\"GPU Available:\", torch.cuda.is_available())\n",
    "if torch.cuda.is_available():\n",
    "    print(\"GPU Name:\", torch.cuda.get_device_name(0))"
   ]
  },
  {
   "cell_type": "markdown",
   "metadata": {},
   "source": [
    "# Configuration file format\n",
    "The parameter values are between 0.0 and 1.0\n",
    "```JSON\n",
    "{\n",
    "    \"Number of Parameters\": 2,\n",
    "    \"Data Sets\":[\n",
    "    {\n",
    "\t\"Parameters\": [ 0.0, 0.0 ],\n",
    "\t\"TrainingClean\": \"./input.wav\",\n",
    "\t\"TrainingTarget\": \"./0_0_output.wav\"\n",
    "    },\n",
    "    {\n",
    "\t\"Parameters\": [ 0.0, 0.25 ],\n",
    "\t\"TrainingClean\": \"./input.wav\",\n",
    "\t\"TrainingTarget\": \"./0_0.25_output.wav\"\n",
    "    },\n",
    "    ...\n",
    "    ]\n",
    "}\n",
    "```\n"
   ]
  },
  {
   "cell_type": "code",
   "execution_count": null,
   "metadata": {},
   "outputs": [],
   "source": [
    "# Upload and Extract Training Data\n",
    "from google.colab import files\n",
    "print(\"Please upload a ZIP file named 'input.zip' containing training configuration and wavefiles.\")\n",
    "uploaded = files.upload()\n",
    "\n",
    "!unzip input.zip\n",
    "!ls -R input/"
   ]
  },
  {
   "cell_type": "code",
   "execution_count": null,
   "metadata": {},
   "outputs": [],
   "source": [
    "# Prepare wav files for training using prep_wav.py\n",
    "!python prep_wav2.py model -p \"./input/configuration.json\" # --normalize true"
   ]
  },
  {
   "cell_type": "code",
   "execution_count": null,
   "metadata": {},
   "outputs": [],
   "source": [
    "epochs = 200 #@param {type: \"number\"}\n",
    "\n",
    "import json\n",
    "import os\n",
    "\n",
    "# Check if input directory exists\n",
    "if not os.path.exists(\"./input\"):\n",
    "    print(\"ERROR: Input directory not found. Please make sure to upload and extract the input.zip file first.\")\n",
    "else:\n",
    "    # Check if configuration.json exists\n",
    "    config_path = \"./input/configuration.json\"\n",
    "    if not os.path.exists(config_path):\n",
    "        print(f\"ERROR: Configuration file not found at {config_path}. Please check that input.zip contains a configuration.json file.\")\n",
    "    else:\n",
    "        try:\n",
    "            # Try to read and parse the JSON file\n",
    "            with open(config_path, \"r\") as f:\n",
    "                config = json.load(f)\n",
    "            \n",
    "            # Check if \"Number of Parameters\" field exists in the JSON\n",
    "            if \"Number of Parameters\" not in config:\n",
    "                print('ERROR: \"Number of Parameters\" field not found in configuration.json. Please check the format of your configuration file.')\n",
    "            else:\n",
    "                num_params = config[\"Number of Parameters\"]\n",
    "                print(f\"Number of parameters set to {num_params}\")\n",
    "                input_size = 1 + num_params\n",
    "                # Train the model using dist_model_recnet.py\n",
    "                !python dist_model_recnet.py -l RNN3-model -eps {epochs} --seed 39 -is {input_size}\n",
    "        except json.JSONDecodeError:\n",
    "            print(f\"ERROR: Failed to parse {config_path}. The file is not valid JSON. Please check the format of your configuration file.\")\n",
    "        except Exception as e:\n",
    "            print(f\"ERROR: An unexpected error occurred while reading the configuration file: {str(e)}\")\n"
   ]
  },
  {
   "cell_type": "code",
   "execution_count": null,
   "metadata": {},
   "outputs": [],
   "source": [
    "# Name your config in the following command\n",
    "# The plots will be generated in the Results/modelName/ directory\n",
    "!python plot.py model"
   ]
  }
 ],
 "metadata": {
  "accelerator": "GPU",
  "colab": {
   "name": "Two-Parameter Amp Model Training",
   "private_outputs": true,
   "provenance": []
  },
  "kernelspec": {
   "display_name": "Python 3",
   "language": "python",
   "name": "python3"
  },
  "language_info": {
   "name": "python",
   "version": "3.7.12"
  }
 },
 "nbformat": 4,
 "nbformat_minor": 4
}
