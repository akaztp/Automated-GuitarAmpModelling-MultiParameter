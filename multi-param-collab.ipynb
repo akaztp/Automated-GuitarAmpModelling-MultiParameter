{
 "cells": [
  {
   "cell_type": "markdown",
   "metadata": {},
   "source": [
    "# Multi-parameter Amp Model Training\n",
    "\n",
    " Make sure this notebook is connected and using GPU. There is a button \"Connect\" in the top right corner.\n",
    " You might need to buy compute credits.\n",
    "\n",
    "## Step 1: Get Data\n",
    "\n",
    "- Download the wave file to be played into the amp: [Proteus_Capture.wav](https://github.com/akaztp/Automated-GuitarAmpModelling-MultiParameter/raw/refs/heads/main/Data/Proteus_Capture.wav)\n",
    "- Record the output from the amp with different values of its effects (i.e., parameters)\n",
    "- Generate a JSON file named \"configuration.json\" with the description of the recorded wave files\n",
    "```JSON\n",
    "{\n",
    "    \"Number of Parameters\": 2,\n",
    "    \"Data Sets\":[\n",
    "    {\n",
    "        \"Parameters\": [ 0.0, 0.0 ],\n",
    "        \"TrainingClean\": \"input.wav\",\n",
    "        \"TrainingTarget\": \"0_0_output.wav\"\n",
    "    },\n",
    "    {\n",
    "        \"Parameters\": [ 0.0, 0.25 ],\n",
    "        \"TrainingClean\": \"input.wav\",\n",
    "        \"TrainingTarget\": \"0_0.25_output.wav\"\n",
    "    },\n",
    "    ...\n",
    "    ]\n",
    "}\n",
    "```\n",
    "Note: The parameters values are between 0.0 and 1.0\n",
    "- Build a zip file with the \"configuration.json\" and the other wave files flat in the top level of the archive\n"
   ]
  },
  {
   "cell_type": "code",
   "execution_count": null,
   "metadata": {
    "cellView": "form"
   },
   "outputs": [],
   "source": [
    "#@markdown ## Step 2: Setup Environment\n",
    "!git clone https://github.com/akaztp/Automated-GuitarAmpModelling-MultiParameter\n",
    "%cd Automated-GuitarAmpModelling-MultiParameter\n",
    "!git submodule update --init --recursive\n",
    "#!pip install -r requirements.txt --ignore-requires-python\n",
    "\n",
    "# GPU Check\n",
    "import torch\n",
    "print(\"GPU Available:\", torch.cuda.is_available())\n",
    "if torch.cuda.is_available():\n",
    "    print(\"GPU Name:\", torch.cuda.get_device_name(0))\n"
   ]
  },
  {
   "cell_type": "code",
   "execution_count": null,
   "metadata": {
    "cellView": "form"
   },
   "outputs": [],
   "source": [
    "#@markdown ## Step 3: Upload and Extract Training Data\n",
    "from google.colab import files\n",
    "print(\"Please upload a ZIP file containing training configuration and wavefiles.\")\n",
    "uploaded = files.upload()\n",
    "if uploaded:\n",
    "    for filename in uploaded.keys():\n",
    "            if filename.endswith('.zip'):\n",
    "                !unzip {filename} -d input\n",
    "\n",
    "    !ls -R input/"
   ]
  },
  {
   "cell_type": "code",
   "execution_count": null,
   "metadata": {
    "cellView": "form"
   },
   "outputs": [],
   "source": [
    "#@markdown ## Step 4: Prepare wav files for training\n",
    "!python prep_wav2.py model -p \"./input/configuration.json\" # --normalize true"
   ]
  },
  {
   "cell_type": "code",
   "execution_count": null,
   "metadata": {
    "cellView": "form"
   },
   "outputs": [],
   "source": [
    "#@markdown ## Step 5: Train\n",
    "epochs = 200 #@param {type: \"number\"}\n",
    "hidden_size = 40 #@param {type: \"number\"}\n",
    "\n",
    "import json\n",
    "import os\n",
    "\n",
    "# Check if input directory exists\n",
    "if not os.path.exists(\"./input\"):\n",
    "    print(\"ERROR: Input directory not found. Please make sure to upload and extract the input.zip file first.\")\n",
    "else:\n",
    "    # Check if configuration.json exists\n",
    "    config_path = \"./input/configuration.json\"\n",
    "    if not os.path.exists(config_path):\n",
    "        print(f\"ERROR: Configuration file not found at {config_path}. Please check that input.zip contains a configuration.json file.\")\n",
    "    else:\n",
    "        try:\n",
    "            # Try to read and parse the JSON file\n",
    "            with open(config_path, \"r\") as f:\n",
    "                config = json.load(f)\n",
    "            \n",
    "            # Check if \"Number of Parameters\" field exists in the JSON\n",
    "            if \"Number of Parameters\" not in config:\n",
    "                print('ERROR: \"Number of Parameters\" field not found in configuration.json. Please check the format of your configuration file.')\n",
    "            else:\n",
    "                num_params = config[\"Number of Parameters\"]\n",
    "                print(f\"Number of parameters set to {num_params}\")\n",
    "                input_size = 1 + num_params\n",
    "                # Train the model using dist_model_recnet.py\n",
    "                !python dist_model_recnet.py -eps {epochs} --seed 39 -is {input_size} -hs {hidden_size} -ut LSTM -pf None -fn model -p amp\n",
    "        except json.JSONDecodeError:\n",
    "            print(f\"ERROR: Failed to parse {config_path}. The file is not valid JSON. Please check the format of your configuration file.\")\n",
    "        except Exception as e:\n",
    "            print(f\"ERROR: An unexpected error occurred while reading the configuration file: {str(e)}\")\n"
   ]
  },
  {
   "cell_type": "code",
   "execution_count": null,
   "metadata": {},
   "outputs": [],
   "source": [
    "# Name your config in the following command\n",
    "# The plots will be generated in the Results/modelName/ directory\n",
    "!python plot.py model --model_name amp --pred_wav test_out_best.wav"
   ]
  }
 ],
 "metadata": {
  "accelerator": "GPU",
  "colab": {
   "name": "Multi-Parameter Amp Model Training",
   "private_outputs": true,
   "provenance": []
  },
  "kernelspec": {
   "display_name": "Python 3",
   "language": "python",
   "name": "python3"
  },
  "language_info": {
   "name": "python",
   "version": "3.7.12"
  }
 },
 "nbformat": 4,
 "nbformat_minor": 4
}
